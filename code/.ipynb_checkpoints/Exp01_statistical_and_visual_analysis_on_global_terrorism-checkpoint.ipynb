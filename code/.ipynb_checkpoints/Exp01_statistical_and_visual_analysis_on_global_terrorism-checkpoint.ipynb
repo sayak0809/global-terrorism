{
 "cells": [
  {
   "cell_type": "markdown",
   "id": "319323dd",
   "metadata": {},
   "source": [
    "## Names : Sayak Mallick, Aayushi Ajmera\n",
    "## Course : Masters in Quantitative Data Science Methods\n",
    "## Matriculation Numbers : 6000578, 6001009"
   ]
  },
  {
   "cell_type": "code",
   "execution_count": 1,
   "id": "1551a74a",
   "metadata": {},
   "outputs": [],
   "source": [
    "# importing all required modules\n",
    "\n",
    "import pandas as pd\n",
    "import matplotlib.pyplot as plt\n",
    "import numpy as np\n",
    "import seaborn as sns\n",
    "from matplotlib import cm\n",
    "import ipywidgets as widgets \n",
    "from ipywidgets import *\n",
    "\n",
    "import geopandas\n",
    "from shapely.geometry import Point, Polygon\n",
    "\n",
    "import warnings\n",
    "warnings.filterwarnings('ignore')\n",
    "\n",
    "from sklearn.preprocessing import LabelEncoder\n",
    "from sklearn.model_selection import train_test_split\n",
    "from sklearn.ensemble import ExtraTreesClassifier\n",
    "from sklearn.ensemble import RandomForestClassifier\n",
    "from sklearn.ensemble import AdaBoostClassifier\n",
    "from sklearn.ensemble import GradientBoostingClassifier\n",
    "from sklearn.model_selection import cross_val_score\n",
    "from sklearn.dummy import DummyClassifier\n",
    "from sklearn.cluster import KMeans"
   ]
  },
  {
   "cell_type": "code",
   "execution_count": null,
   "id": "01eebf3d",
   "metadata": {},
   "outputs": [],
   "source": [
    "# importing the data\n",
    "\n",
    "terror = pd.read_excel(r\"../data/globalterrorismdb_0221dist.xlsx\")\n",
    "dk = terror.copy()"
   ]
  },
  {
   "cell_type": "code",
   "execution_count": null,
   "id": "08c7b4b1",
   "metadata": {},
   "outputs": [],
   "source": [
    "world_map = geopandas.read_file(r'../data/World_Countries__Generalized_.shp')\n",
    "capitals = pd.read_csv(r'../data/concap.csv')\n",
    "happiness2015 = pd.read_csv(\"../data/2015.csv\")\n",
    "happiness2016 = pd.read_csv(\"../data/2016.csv\")\n",
    "happiness2017 = pd.read_csv(\"../data/2017.csv\")\n",
    "happiness2018 = pd.read_csv(\"../data/2018.csv\")\n",
    "happiness2019 = pd.read_csv(\"../data/2019.csv\")"
   ]
  },
  {
   "cell_type": "markdown",
   "id": "a4f06c3c",
   "metadata": {},
   "source": [
    "# Data Preprocessing"
   ]
  },
  {
   "cell_type": "code",
   "execution_count": null,
   "id": "9a5854e2",
   "metadata": {},
   "outputs": [],
   "source": [
    "df = dk\n",
    "\n",
    "df['ncasualties'] = df['nkill'] + df['nwound']\n",
    "df['has_casualties'] = df['ncasualties'].apply(lambda x: 0 if x == 0 else 1)"
   ]
  },
  {
   "cell_type": "code",
   "execution_count": null,
   "id": "a722bbf0",
   "metadata": {},
   "outputs": [],
   "source": [
    "years = [2015,2016,2017,2018,2019]\n",
    "terror_snip = terror[terror['iyear'].isin(years)]\n",
    "terror_new = terror_snip"
   ]
  },
  {
   "cell_type": "code",
   "execution_count": null,
   "id": "c8a79358",
   "metadata": {},
   "outputs": [],
   "source": [
    "terror_new[\"Rank\"] = \"\"\n",
    "terror_new[\"Score\"] = \"\"\n",
    "terror_new = terror_new.rename(columns={'country_txt': 'Country'})\n",
    "happiness2015 = happiness2015.rename(columns={'Happiness Score' : 'Score_2015'})\n",
    "happiness2016 = happiness2016.rename(columns={'Happiness Score' : 'Score_2016'})\n",
    "happiness2017 = happiness2017.rename(columns={'Happiness.Score' : 'Score_2017'})\n",
    "happiness2018 = happiness2018.rename(columns={'Country or region' : 'Country', 'Score' : 'Score_2018'})\n",
    "happiness2019 = happiness2019.rename(columns={'Country or region' : 'Country', 'Score' : 'Score_2019'})"
   ]
  },
  {
   "cell_type": "markdown",
   "id": "5b66569c",
   "metadata": {},
   "source": [
    "# Visualizing the data"
   ]
  },
  {
   "cell_type": "code",
   "execution_count": null,
   "id": "ae3c0fd9",
   "metadata": {},
   "outputs": [],
   "source": [
    "plt.figure(figsize=(25,10))\n",
    "sns.countplot(terror['iyear'], palette=\"rocket_r\").set_title('Year wise attacks', fontsize=25)\n",
    "plt.xticks(rotation=90)\n",
    "plt.xlabel('Year', fontsize=15)\n",
    "plt.ylabel('No. of attacks', fontsize=15)"
   ]
  },
  {
   "cell_type": "code",
   "execution_count": null,
   "id": "9296370e",
   "metadata": {},
   "outputs": [],
   "source": [
    "#Terrorist incident locations plotted\n",
    "\n",
    "crs = {'init':'EPSG:4326'}\n",
    "geometry = [Point(xy) for xy in zip(df['longitude'], df['latitude'])]\n",
    "total_inc = geopandas.GeoDataFrame(df, crs = crs, geometry = geometry)\n",
    "\n",
    "fig, ax = plt.subplots(figsize = (20,10))\n",
    "ax.axes.xaxis.set_ticklabels([])\n",
    "ax.axes.yaxis.set_ticklabels([])\n",
    "world_map.to_crs(epsg=4326).plot(ax=ax, color='lightgrey')\n",
    "total_inc.plot(ax=ax, alpha= 0.01, color = 'k')\n",
    "ax.set_title('Incidents',fontsize = 20)"
   ]
  },
  {
   "cell_type": "code",
   "execution_count": null,
   "id": "13ce8af1",
   "metadata": {
    "scrolled": false
   },
   "outputs": [],
   "source": [
    "#Estimated global terrorist hubs based on country to which kidnappers diverted\n",
    "\n",
    "crs = {'init':'EPSG:4326'}\n",
    "\n",
    "div = df[pd.notna(df['divert'])]\n",
    "div_cap = div.copy()\n",
    "div_cap['Diverted to capital'] = div_cap['divert'].map (dict(zip(div_cap.country_txt,capitals.CapitalName)))\n",
    "div_cap['CapLong'] = div_cap['Diverted to capital'].map (dict(zip(div_cap['Diverted to capital'],capitals.CapitalLongitude)))\n",
    "div_cap['CapLat'] = div_cap['Diverted to capital'].map (dict(zip(div_cap['Diverted to capital'],capitals.CapitalLatitude)))\n",
    "\n",
    "geometry = [Point(xy) for xy in zip(div['longitude'], div['latitude'])]\n",
    "cap_geometry = [Point(xy) for xy in zip(div_cap['CapLong'], div_cap['CapLat'])]\n",
    "\n",
    "div = geopandas.GeoDataFrame(div, crs = crs, geometry = geometry)\n",
    "div_cap = geopandas.GeoDataFrame(div_cap, crs = crs, geometry = cap_geometry)\n",
    "\n",
    "fig, ax = plt.subplots(figsize = (20,10))\n",
    "ax.axes.xaxis.set_ticklabels([])\n",
    "ax.axes.yaxis.set_ticklabels([])\n",
    "world_map.to_crs(epsg=4326).plot(ax=ax, color='lightgrey')\n",
    "div.plot(ax=ax, alpha= 1, color = 'cyan', label = 'Location of kidnapping and hijacking', legend = True)\n",
    "div_cap.plot(ax=ax, alpha = 1, color = 'green', marker = '*', markersize = 300,label = 'Location diverted to', legend = True)\n",
    "ax.legend(labels = ['Location of kidnapping and hijacking', 'Location diverted to'])\n",
    "ax.set_title('Locations to which kidnappers & hijackers diverted',fontsize = 20)\n",
    "plt.show()"
   ]
  },
  {
   "cell_type": "markdown",
   "id": "9e8a7a4e",
   "metadata": {},
   "source": [
    "# Economic Influence"
   ]
  },
  {
   "cell_type": "code",
   "execution_count": null,
   "id": "cbb088e7",
   "metadata": {},
   "outputs": [],
   "source": [
    "#Terrorist incident locations plotted for which property damage was above 1 million dollars\n",
    "\n",
    "catas_inc = df[df['propextent'].isin([1,2])]\n",
    "crs = {'init':'EPSG:4326'}\n",
    "geometry = [Point(xy) for xy in zip(catas_inc['longitude'], catas_inc['latitude'])]\n",
    "catas_inc = geopandas.GeoDataFrame(catas_inc, crs = crs, geometry = geometry)\n",
    "\n",
    "fig, ax = plt.subplots(figsize = (20,10))\n",
    "ax.axes.xaxis.set_ticklabels([])\n",
    "ax.axes.yaxis.set_ticklabels([])\n",
    "world_map.to_crs(epsg=4326).plot(ax=ax, color='lightgrey')\n",
    "catas_inc.plot(ax=ax, alpha= 0.7, color = 'red')\n",
    "ax.set_title('Incidents for which property damage was above 1 million dollars',fontsize = 20)"
   ]
  },
  {
   "cell_type": "markdown",
   "id": "b938f21e",
   "metadata": {},
   "source": [
    "# Social Influence"
   ]
  },
  {
   "cell_type": "code",
   "execution_count": null,
   "id": "8be11ddd",
   "metadata": {},
   "outputs": [],
   "source": [
    "attacks = terror_new.groupby('Country').count()['eventid']\n",
    "attacks = pd.DataFrame(attacks)\n",
    "attacks = attacks.rename(columns={'eventid':'Incidents'})\n",
    "attacks"
   ]
  },
  {
   "cell_type": "code",
   "execution_count": null,
   "id": "68148c14",
   "metadata": {},
   "outputs": [],
   "source": [
    "hpterror15 = dict(zip(happiness2015.Country,happiness2015.Score_2015))\n",
    "hpterror16 = dict(zip(happiness2016.Country,happiness2016.Score_2016))\n",
    "hpterror17 = dict(zip(happiness2017.Country,happiness2017.Score_2017))\n",
    "hpterror18 = dict(zip(happiness2018.Country,happiness2018.Score_2018))\n",
    "hpterror19 = dict(zip(happiness2019.Country,happiness2019.Score_2019))"
   ]
  },
  {
   "cell_type": "code",
   "execution_count": null,
   "id": "afadd633",
   "metadata": {},
   "outputs": [],
   "source": [
    "attacks['score_2015'] = attacks.index.map(hpterror15)\n",
    "attacks['score_2016'] = attacks.index.map(hpterror16)\n",
    "attacks['score_2017'] = attacks.index.map(hpterror17)\n",
    "attacks['score_2018'] = attacks.index.map(hpterror18)\n",
    "attacks['score_2019'] = attacks.index.map(hpterror19)"
   ]
  },
  {
   "cell_type": "code",
   "execution_count": null,
   "id": "0d10e670",
   "metadata": {
    "scrolled": false
   },
   "outputs": [],
   "source": [
    "fig, ax = plt.subplots(5, figsize = (15,25))\n",
    "attacks = attacks.fillna(0)\n",
    "\n",
    "lp = ['score_2015','score_2016','score_2017','score_2018','score_2019']\n",
    "for k in range(len(lp)):\n",
    "    attacks.sort_values (by = lp[k],ascending = False, inplace = True)\n",
    "    y = attacks.Incidents\n",
    "    x = attacks[lp[k]]\n",
    "\n",
    "    a = ax[k].bar(x, y, color='black', width = 0.2);\n",
    "    b = ax[k].axvline(5,color = 'r', linestyle = '--')\n",
    "    ax[k].set_xlabel('Happiness Score')\n",
    "    ax[k].set_ylabel('Terrorist Attacks')\n",
    "    ax[k].legend(handles =[a,b],labels=['Terrorist Attacks','Separator for Happy countries (towards the right)'])\n",
    "    ax[k].set_title(lp[k])\n",
    "\n",
    "fig.tight_layout()\n",
    "plt.show()"
   ]
  },
  {
   "cell_type": "markdown",
   "id": "7f15062f",
   "metadata": {},
   "source": [
    "# Prediction of casualties"
   ]
  },
  {
   "cell_type": "code",
   "execution_count": null,
   "id": "b9763619",
   "metadata": {},
   "outputs": [],
   "source": [
    "feature_cols = ['iyear', 'imonth', 'iday', 'latitude', 'longitude','extended','vicinity','doubtterr','multiple','success',\n",
    "                'suicide','claimed','property','ishostkid','country_txt','region','attacktype1_txt','targtype1_txt','weaptype1_txt']"
   ]
  },
  {
   "cell_type": "code",
   "execution_count": null,
   "id": "8a69c1dd",
   "metadata": {},
   "outputs": [],
   "source": [
    "target_col = 'has_casualties'"
   ]
  },
  {
   "cell_type": "code",
   "execution_count": null,
   "id": "1c587d77",
   "metadata": {},
   "outputs": [],
   "source": [
    "lb = LabelEncoder()\n",
    "df['country_txt'] = lb.fit_transform(df['country_txt'])\n",
    "df['attacktype1_txt'] = lb.fit_transform(df['attacktype1_txt'])\n",
    "df['targtype1_txt'] = lb.fit_transform(df['targtype1_txt'])\n",
    "df['weaptype1_txt'] = lb.fit_transform(df['weaptype1_txt'])"
   ]
  },
  {
   "cell_type": "code",
   "execution_count": null,
   "id": "f1112c51",
   "metadata": {},
   "outputs": [],
   "source": [
    "X = df[feature_cols].fillna(0)\n",
    "y = df[target_col]\n",
    "\n",
    "X_train, X_test, y_train, y_test = train_test_split(X, y, test_size=0.3)"
   ]
  },
  {
   "cell_type": "code",
   "execution_count": null,
   "id": "afb21548",
   "metadata": {},
   "outputs": [],
   "source": [
    "forest = ExtraTreesClassifier(n_estimators=20, random_state=0)\n",
    "\n",
    "forest.fit(X, y)\n",
    "importances = forest.feature_importances_\n",
    "std = np.std([tree.feature_importances_ for tree in forest.estimators_],axis=0)\n",
    "indices = np.argsort(importances)[::-1]\n",
    "fnames = [feature_cols[i] for i in indices]"
   ]
  },
  {
   "cell_type": "code",
   "execution_count": null,
   "id": "cda5790c",
   "metadata": {},
   "outputs": [],
   "source": [
    "plt.figure()\n",
    "plt.title(\"Feature importances\")\n",
    "plt.bar(range(X.shape[1]), importances[indices],color=\"y\", yerr=std[indices], align=\"center\")\n",
    "plt.xticks(range(X.shape[1]), fnames, rotation=90)\n",
    "plt.xlim([-1, X.shape[1]])\n",
    "plt.show()"
   ]
  },
  {
   "cell_type": "code",
   "execution_count": null,
   "id": "a0a56be6",
   "metadata": {},
   "outputs": [],
   "source": [
    "feature_cols = ['longitude', 'targtype1_txt', 'latitude', 'attacktype1_txt', 'property', 'iday', 'imonth']\n",
    "X = df[feature_cols].fillna(0)\n",
    "X_train, X_test, y_train, y_test = train_test_split(X, y, test_size=0.3)"
   ]
  },
  {
   "cell_type": "code",
   "execution_count": null,
   "id": "91544705",
   "metadata": {},
   "outputs": [],
   "source": [
    "model = RandomForestClassifier(n_estimators=20)\n",
    "model.fit(X_train, y_train)\n",
    "y_pred = model.predict(X_test)\n",
    "np.mean(y_pred == y_test)"
   ]
  },
  {
   "cell_type": "code",
   "execution_count": null,
   "id": "677c38f1",
   "metadata": {},
   "outputs": [],
   "source": [
    "model = RandomForestClassifier(n_estimators=20)\n",
    "\n",
    "scores = cross_val_score(model, X, y, cv=10) # Ten-fold cross validation.\n",
    "print(scores)\n",
    "print('Accuracy: %0.2f (+/- %0.2f)' % (scores.mean(), scores.std() * 2))"
   ]
  },
  {
   "cell_type": "code",
   "execution_count": null,
   "id": "d8e82752",
   "metadata": {},
   "outputs": [],
   "source": [
    "model = DummyClassifier(strategy=\"most_frequent\")\n",
    "%time model.fit(X_train, y_train)\n",
    "%time y_pred = model.predict(X_test)\n",
    "np.mean(y_pred == y_test)"
   ]
  },
  {
   "cell_type": "code",
   "execution_count": null,
   "id": "539c79bb",
   "metadata": {},
   "outputs": [],
   "source": [
    "model = AdaBoostClassifier(n_estimators=20)\n",
    "\n",
    "scores = cross_val_score(model, X, y, cv=10) # Ten-fold cross validation.\n",
    "print(scores)\n",
    "print('Accuracy: %0.2f (+/- %0.2f)' % (scores.mean(), scores.std() * 2))"
   ]
  },
  {
   "cell_type": "code",
   "execution_count": null,
   "id": "9fe88255",
   "metadata": {},
   "outputs": [],
   "source": [
    "model = GradientBoostingClassifier(n_estimators=20)\n",
    "\n",
    "scores = cross_val_score(model, X, y, cv=10) # Ten-fold cross validation.\n",
    "print(scores)\n",
    "print('Accuracy: %0.2f (+/- %+0.2f)' % (scores.mean(), scores.std() * 2))"
   ]
  },
  {
   "cell_type": "markdown",
   "id": "f3879926",
   "metadata": {},
   "source": [
    "# K means clustering to group nearby incidents"
   ]
  },
  {
   "cell_type": "code",
   "execution_count": null,
   "id": "d6326b25",
   "metadata": {},
   "outputs": [],
   "source": [
    "# removing outliers - incidents where a lot of people were killed/ injured\n",
    "data = dk[dk['nkill'] <= 8].reset_index(drop=True)\n",
    "data = data[data['nwound'] <= 12].reset_index(drop=True)"
   ]
  },
  {
   "cell_type": "code",
   "execution_count": null,
   "id": "921a20c3",
   "metadata": {},
   "outputs": [],
   "source": [
    "fts = ['longitude','latitude','nwound','nkill','natlty1_txt','targtype1_txt','targsubtype1_txt',\n",
    "            'weaptype1_txt','attacktype1_txt']\n",
    "\n",
    "X = pd.get_dummies(data[fts])\n",
    "X = X.T[X.var() > 0.05].T.fillna(0)\n",
    "X = X.fillna(0)\n",
    "\n",
    "print('Shape :', X.shape)\n",
    "X.head()"
   ]
  },
  {
   "cell_type": "code",
   "execution_count": null,
   "id": "775c0f3d",
   "metadata": {},
   "outputs": [],
   "source": [
    "scores = {}\n",
    "for k in range(2, 11):\n",
    "    print(k, end=', ')\n",
    "    scores[k] = KMeans(n_clusters=k).fit(X).score(X)\n",
    "pd.Series(scores).plot.bar()"
   ]
  },
  {
   "cell_type": "code",
   "execution_count": null,
   "id": "aa4179ad",
   "metadata": {},
   "outputs": [],
   "source": [
    "from sklearn.metrics import silhouette_score\n",
    "from sklearn.preprocessing import scale\n",
    "data['Cluster'] = KMeans(n_clusters=6).fit_predict(X) + 1\n",
    "print('Silhouette Score:', silhouette_score(X, data['Cluster'], sample_size=10000) * 10000 // 1 / 100, '%')"
   ]
  },
  {
   "cell_type": "code",
   "execution_count": null,
   "id": "aaca776a",
   "metadata": {},
   "outputs": [],
   "source": [
    "names = data.groupby('Cluster')['region_txt'].describe()['top'].values\n",
    "data['ClusterName'] = data['Cluster'].apply(lambda c: names[c - 1])\n",
    "\n",
    "numerical = data.dtypes[data.dtypes != 'object'].keys()\n",
    "exclude = [\n",
    "    'eventid', 'Cluster', 'region', 'country', 'iyear', \n",
    "    'natlty1', 'natlty2', 'natlty3', 'imonth', 'iday',\n",
    "    'guncertain1', 'guncertain2', 'guncertain3'\n",
    "] + [col for col in numerical if 'type' in col or 'mode' in col or 'ransom' in col]\n",
    "X_profiling = data[numerical.drop(exclude)].fillna(0)\n",
    "\n",
    "X_profiling['ClusterName'] = data['ClusterName']"
   ]
  },
  {
   "cell_type": "code",
   "execution_count": null,
   "id": "652f53ae",
   "metadata": {},
   "outputs": [],
   "source": [
    "ckeys = data['region_txt'].unique()\n",
    "ckeys = dict(zip(ckeys, plt.cm.tab20(range(len(ckeys)))))\n",
    "\n",
    "fig,ax = plt.subplots(1,figsize = (20,10))\n",
    "ax.axes.xaxis.set_ticklabels([])\n",
    "ax.axes.yaxis.set_ticklabels([])\n",
    "for i, x in pd.concat([X_profiling, data['region_txt']], axis=1).groupby('region_txt'):\n",
    "    a = ax.scatter(x['longitude'], x['latitude'], c=ckeys[i], marker='.', cmap='tab10', label=i)\n",
    "plt.legend(loc=3)"
   ]
  },
  {
   "cell_type": "code",
   "execution_count": null,
   "id": "63cf5492",
   "metadata": {
    "scrolled": true
   },
   "outputs": [],
   "source": [
    "print('Similarity between cluster and region labels:', \n",
    "      len(data[data['region_txt'] == data['ClusterName']]) / len(data) * 10000 // 1 / 100, '%')"
   ]
  },
  {
   "cell_type": "markdown",
   "id": "e736a365",
   "metadata": {},
   "source": [
    "# Extras"
   ]
  },
  {
   "cell_type": "code",
   "execution_count": null,
   "id": "9000fa95",
   "metadata": {},
   "outputs": [],
   "source": [
    "def plotf(Year):\n",
    "    dataperyear= terror.loc[terror['iyear']==Year]\n",
    "    region = dataperyear['region_txt'].unique()\n",
    "    \n",
    "    attacks = dataperyear['region_txt'].value_counts()\n",
    "    fig = plt.figure(figsize =(13, 13))\n",
    "    plt.pie(attacks)\n",
    "    plt.legend(region)\n",
    "    fig.tight_layout()\n",
    "interactive_plot = interact(\n",
    "    plotf,\n",
    "    Year = widgets.IntSlider(min = 1970,max = 2019,step = 10, value = 2019)\n",
    ")\n",
    "\n",
    "interactive_plot"
   ]
  },
  {
   "cell_type": "code",
   "execution_count": null,
   "id": "47b59c8a",
   "metadata": {},
   "outputs": [],
   "source": [
    "df"
   ]
  },
  {
   "cell_type": "code",
   "execution_count": null,
   "id": "f57ce986",
   "metadata": {},
   "outputs": [],
   "source": [
    "df.groupby('gname').count()['eventid'].sort_values(ascending = False)[1:11]"
   ]
  },
  {
   "cell_type": "code",
   "execution_count": null,
   "id": "15164b44",
   "metadata": {},
   "outputs": [],
   "source": [
    "groups = list(df.groupby('gname').count()['eventid'].sort_values(ascending = False)[1:11].index)\n",
    "groups"
   ]
  },
  {
   "cell_type": "code",
   "execution_count": null,
   "id": "bcb94bfb",
   "metadata": {},
   "outputs": [],
   "source": [
    "g_dict = dict(zip(groups, sns.color_palette(\"bright\", 10)))\n",
    "g_dict"
   ]
  },
  {
   "cell_type": "code",
   "execution_count": null,
   "id": "8fa266e9",
   "metadata": {},
   "outputs": [],
   "source": [
    "#Top 10 terrorist groups plotted by group\n",
    "\n",
    "group_plot = df[df['gname'].isin(groups)]\n",
    "group_plot['color'] = [g_dict[x] for x in group_plot.gname]\n",
    "\n",
    "crs = {'init':'EPSG:4326'}\n",
    "geometry = [Point(xy) for xy in zip(group_plot['longitude'], group_plot['latitude'])]\n",
    "total_inc = geopandas.GeoDataFrame(group_plot, crs = crs, geometry = geometry)\n",
    "\n",
    "fig, ax = plt.subplots(figsize = (30,17))\n",
    "world_map.to_crs(epsg=4326).plot(ax=ax, color='lightgrey')\n",
    "\n",
    "for c in range (10):\n",
    "    tt = total_inc[total_inc['gname'] == groups[c]]\n",
    "    tt.plot(ax=ax, alpha = 1, label = total_inc.gname)\n",
    "\n",
    "ax.axes.xaxis.set_ticklabels([])\n",
    "ax.axes.yaxis.set_ticklabels([])\n",
    "ax.legend(groups,title=\"Terrorist Groups\", fontsize= 9 , title_fontsize=10, loc = 'lower right')\n",
    "ax.set_title('Top 10 terror groups and their activites',fontsize = 20)"
   ]
  }
 ],
 "metadata": {
  "kernelspec": {
   "display_name": "Python 3 (ipykernel)",
   "language": "python",
   "name": "python3"
  },
  "language_info": {
   "codemirror_mode": {
    "name": "ipython",
    "version": 3
   },
   "file_extension": ".py",
   "mimetype": "text/x-python",
   "name": "python",
   "nbconvert_exporter": "python",
   "pygments_lexer": "ipython3",
   "version": "3.9.7"
  }
 },
 "nbformat": 4,
 "nbformat_minor": 5
}
